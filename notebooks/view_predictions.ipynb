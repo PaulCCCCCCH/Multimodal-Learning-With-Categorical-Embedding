{
 "cells": [
  {
   "cell_type": "code",
   "execution_count": 1,
   "metadata": {},
   "outputs": [
    {
     "name": "stdout",
     "output_type": "stream",
     "text": [
      "\u001b[33m[*] 2237 samples loaded.\u001b[0m\n"
     ]
    }
   ],
   "source": [
    "import argparse\n",
    "from PIL import Image, ImageDraw, ImageOps, ImageFont\n",
    "from crisismmd_dataset import clean_text\n",
    "\n",
    "from torch.utils.data.dataloader import DataLoader\n",
    "from crisismmd_dataset import CrisisMMDataset, labels_task1, labels_task2\n",
    "\n",
    "prediction_file = './prediction-task2.csv'\n",
    "task = 'task2'\n",
    "num_classes = 2 if task == 'task1' else 8\n",
    "class Args:\n",
    "    pass\n",
    "opt = Args()\n",
    "opt.load_size = 228\n",
    "opt.crop_size = 224\n",
    "opt.max_dataset_size = 2147483648\n",
    "opt.debug = False\n",
    "\n",
    "test_set = CrisisMMDataset()\n",
    "test_set.initialize(opt, phase='test', cat='all',\n",
    "                    task=task)\n",
    "\n",
    "label_map = labels_task1 if task == 'task1' else labels_task2\n",
    "inverse_map = {v: k for k, v in label_map.items()}"
   ]
  },
  {
   "cell_type": "code",
   "execution_count": 11,
   "metadata": {},
   "outputs": [],
   "source": [
    "from torchvision import transforms\n",
    "from base_dataset import expand2square\n",
    "transforms = transforms.Compose([\n",
    "    # transforms.Lambda(lambda img: __scale_shortside(img, opt.load_size, opt.crop_size, Image.BICUBIC)),\n",
    "    transforms.Lambda(lambda img: expand2square(img)),\n",
    "    transforms.Resize((opt.load_size, opt.load_size)),\n",
    "    transforms.RandomCrop(opt.crop_size),\n",
    "    # transforms.ToTensor(),\n",
    "    # transforms.Normalize((0.5, 0.5, 0.5), (0.5, 0.5, 0.5)),\n",
    "])\n",
    "\n",
    "for img_idx in range(100, 102):\n",
    "    \n",
    "    imgpath = test_set[img_idx]['path_image']\n",
    "    with Image.open(imgpath) as img:\n",
    "        img = transforms(img)\n",
    "        img.show() \n"
   ]
  },
  {
   "cell_type": "code",
   "execution_count": 3,
   "metadata": {},
   "outputs": [
    {
     "data": {
      "text/plain": [
       "'W:/datasets/CrisisMMD_v2.0/data_image/hurricane_harvey/8_9_2017/905952332923338752_0.jpg'"
      ]
     },
     "execution_count": 3,
     "metadata": {},
     "output_type": "execute_result"
    }
   ],
   "source": []
  },
  {
   "cell_type": "code",
   "execution_count": 20,
   "metadata": {},
   "outputs": [],
   "source": [
    "\n",
    "predictions = open(prediction_file).readlines()\n",
    "\n",
    "predictions = [int(p) for p in predictions]\n",
    "import textwrap\n",
    "def divide(text, length):\n",
    "    # Devide text into multiple lines if too long\n",
    "    result = []\n",
    "    for line in textwrap.wrap(text, width=length):\n",
    "        result.append(line)\n",
    "    return \"\\n\".join(result)\n",
    "\n",
    "output_size = 224\n",
    "textarea_size = 65\n",
    "\n",
    "def show(idx, dataset, error_only=False):\n",
    "    data = dataset[idx]\n",
    "    if error_only and data['label'] == int(predictions[idx]):\n",
    "        return\n",
    "    with Image.open(data['path_image']) as imagePIL:\n",
    "        \n",
    "        image = imagePIL.resize((output_size, output_size))\n",
    "\n",
    "        toShow = Image.new(image.mode, (output_size, output_size+textarea_size), (255, 255, 255))\n",
    "        toShow.paste(image, (0, textarea_size))\n",
    "\n",
    "        font = ImageFont.truetype('FONTS/arial.ttf', 9)\n",
    "        text = clean_text(data['text'])\n",
    "\n",
    "        caption = \"Tweet: {} \\nPrediction: {}\\nLabel: {}\".format(divide(text, 40), inverse_map[int(predictions[idx])], data['label_str'])\n",
    "        ImageDraw.Draw(toShow).text(\n",
    "            (0, 0),     # position\n",
    "            caption,\n",
    "            (0, 0, 0),   # color\n",
    "            font=font\n",
    "        )\n",
    "        # toShow.save('./results/{}/{}.png'.format(task, idx))"
   ]
  },
  {
   "cell_type": "code",
   "execution_count": 21,
   "metadata": {},
   "outputs": [],
   "source": [
    "# for i in range(0, len(test_set)):\n",
    "#    show(i, test_set, error_only=True)"
   ]
  },
  {
   "cell_type": "code",
   "execution_count": 22,
   "metadata": {},
   "outputs": [
    {
     "name": "stdout",
     "output_type": "stream",
     "text": [
      "Test accuracy is 0.5368797496647295\n"
     ]
    }
   ],
   "source": [
    "# Calculate accuracy\n",
    "count = 0\n",
    "for idx in range(len(test_set)):\n",
    "    data = test_set[idx]\n",
    "    if data['label'] == int(predictions[idx]):\n",
    "        count += 1\n",
    "print(\"Test accuracy is {}\".format(count / len(test_set)))\n"
   ]
  },
  {
   "cell_type": "code",
   "execution_count": 23,
   "metadata": {},
   "outputs": [
    {
     "data": {
      "image/png": "[encoded data removed]",
      "text/plain": [
       "<Figure size 432x288 with 2 Axes>"
      ]
     },
     "metadata": {
      "needs_background": "light"
     },
     "output_type": "display_data"
    }
   ],
   "source": [
    "# Copied from https://blog.csdn.net/kane7csdn/article/details/83756583\n",
    "import matplotlib.pyplot as plt\n",
    "import numpy as np\n",
    "from sklearn.metrics import confusion_matrix\n",
    "\n",
    "labels_name = [label_map[inverse_map[i]] for i in range(num_classes)]\n",
    "all_labels = [ int(d['label']) for d in test_set]\n",
    "def plot_confusion_matrix(cm, labels_name, title):\n",
    "    cm = cm.astype('float') / cm.sum(axis=1)[:, np.newaxis]   \n",
    "    plt.imshow(cm, interpolation='nearest')    \n",
    "    plt.title(title)    \n",
    "    plt.colorbar()\n",
    "    num_local = np.array(range(len(labels_name)))\n",
    "    plt.xticks(num_local, labels_name, rotation=90)   \n",
    "    plt.yticks(num_local, labels_name)  \n",
    "    plt.ylabel('True label')\n",
    "    plt.xlabel('Predicted label')\n",
    "cm = confusion_matrix(all_labels, predictions)\n",
    "plot_confusion_matrix(cm, [str(x) for x in range(num_classes)], 'Confusion Matrix for {}'.format(task))"
   ]
  },
  {
   "cell_type": "code",
   "execution_count": 24,
   "metadata": {},
   "outputs": [
    {
     "name": "stdout",
     "output_type": "stream",
     "text": [
      "[0 0 0 0 0 0 0 0]\n"
     ]
    }
   ],
   "source": [
    "print(cm[:, 0])"
   ]
  },
  {
   "cell_type": "code",
   "execution_count": 25,
   "metadata": {},
   "outputs": [],
   "source": [
    "count = {v: {'label': 0, 'pred': 0, 'tp': 0} for _, v in label_map.items()}\n",
    "\n",
    "for cnt, (example, pred) in enumerate(zip(test_set, predictions)):\n",
    "    \n",
    "    label = example['label']\n",
    "    # pred = inverse_map[pred]\n",
    "    count[label]['label'] += 1\n",
    "    count[pred]['pred'] += 1\n",
    "    if label == pred:\n",
    "        count[label]['tp'] += 1"
   ]
  },
  {
   "cell_type": "code",
   "execution_count": 27,
   "id": "8af00207-6227-46a0-b821-9c460c936cac",
   "metadata": {},
   "outputs": [
    {
     "name": "stdout",
     "output_type": "stream",
     "text": [
      "0\n",
      "F1: 0.0000, Precision: 0.0000, Recall: 0.0000\n",
      "1\n",
      "F1: 0.3937, Precision: 0.5291, Recall: 0.3135\n",
      "2\n",
      "F1: 0.4695, Precision: 0.3649, Recall: 0.6585\n",
      "3\n",
      "F1: 0.0000, Precision: 0.0000, Recall: 0.0000\n",
      "4\n",
      "F1: 0.5806, Precision: 0.8071, Recall: 0.4535\n",
      "5\n",
      "F1: 0.5783, Precision: 0.4657, Recall: 0.7630\n",
      "6\n",
      "F1: 0.5573, Precision: 0.4509, Recall: 0.7294\n",
      "7\n",
      "F1: 0.0000, Precision: 0.0000, Recall: 0.0000\n",
      "Average precision: 0.32721029903809673\n",
      "Average f1 score: 0.32242370580483837\n",
      "Average recall: 0.3647345405164734\n"
     ]
    }
   ],
   "source": [
    "tf1 = 0\n",
    "tpre = 0\n",
    "trec = 0\n",
    "for k, s in count.items():\n",
    "    print(k)\n",
    "    recall = s['tp'] / (s['label'] + 0.0001)\n",
    "    precision = s['tp'] / (s['pred'] + 0.0001)\n",
    "    f1 = 2 * precision * recall / (recall + precision + 0.0001)\n",
    "    tf1 += f1\n",
    "    tpre += precision\n",
    "    trec += recall\n",
    "    print(f\"F1: {f1:.4f}, Precision: {precision:.4f}, Recall: {recall:.4f}\")\n",
    "print(\"Average precision: {}\".format(tpre / len(count)))\n",
    "print(\"Average f1 score: {}\".format(tf1 / len(count)))\n",
    "print(\"Average recall: {}\".format(trec/ len(count)))\n"
   ]
  },
  {
   "cell_type": "markdown",
   "metadata": {},
   "source": [
    "1\n",
    "F1: 0.8132, Precision: 0.7260, Recall: 0.9243\n",
    "0\n",
    "F1: 0.5691, Precision: 0.7873, Recall: 0.4456"
   ]
  },
  {
   "cell_type": "markdown",
   "metadata": {},
   "source": [
    "0\n",
    "F1: 0.0000, Precision: 0.0000, Recall: 0.0000\n",
    "1\n",
    "F1: 0.3937, Precision: 0.5291, Recall: 0.3135\n",
    "2\n",
    "F1: 0.4695, Precision: 0.3649, Recall: 0.6585\n",
    "3\n",
    "F1: 0.0000, Precision: 0.0000, Recall: 0.0000\n",
    "4\n",
    "F1: 0.5806, Precision: 0.8071, Recall: 0.4535\n",
    "5\n",
    "F1: 0.5783, Precision: 0.4657, Recall: 0.7630\n",
    "6\n",
    "F1: 0.5573, Precision: 0.4509, Recall: 0.7294\n",
    "7\n",
    "F1: 0.0000, Precision: 0.0000, Recall: 0.0000"
   ]
  }
 ],
 "metadata": {
  "interpreter": {
   "hash": "d5f9a1bb6547c9ab41a73bef8ed9bb0f5305962f8151636a8c9f0ad7219be3fa"
  },
  "kernelspec": {
   "display_name": "Python 3.9.7 64-bit ('11777': conda)",
   "name": "python3"
  },
  "language_info": {
   "codemirror_mode": {
    "name": "ipython",
    "version": 3
   },
   "file_extension": ".py",
   "mimetype": "text/x-python",
   "name": "python",
   "nbconvert_exporter": "python",
   "pygments_lexer": "ipython3",
   "version": "3.9.7"
  },
  "orig_nbformat": 4
 },
 "nbformat": 4,
 "nbformat_minor": 2
}
